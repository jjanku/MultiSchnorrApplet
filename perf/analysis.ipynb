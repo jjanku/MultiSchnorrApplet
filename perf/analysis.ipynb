{
 "cells": [
  {
   "cell_type": "code",
   "execution_count": null,
   "metadata": {},
   "outputs": [],
   "source": [
    "import numpy as np\n",
    "import pandas as pd\n",
    "import matplotlib.pyplot as plt\n",
    "import seaborn as sns\n",
    "\n",
    "plt.rcParams['figure.figsize'] = (6.4, 4)"
   ]
  },
  {
   "cell_type": "code",
   "execution_count": null,
   "metadata": {},
   "outputs": [],
   "source": [
    "def load_csv(name):\n",
    "    df = pd.read_csv(name)\n",
    "    \n",
    "    # convert from nanos to millis\n",
    "    timeCols = df.columns != 'ProbTries'\n",
    "    df.loc[:, timeCols] = df.loc[:, timeCols] / 1_000_000\n",
    "    \n",
    "    if 'xy' not in name:\n",
    "        df['CommitProb'] = df['CommitProbTotal'] / df['ProbTries']\n",
    "        df['SignProb'] = df['SignProbTotal'] / df['ProbTries']\n",
    "        df = df.drop(columns=['CommitProbTotal', 'SignProbTotal'])\n",
    "\n",
    "    return df"
   ]
  },
  {
   "cell_type": "code",
   "execution_count": null,
   "metadata": {},
   "outputs": [],
   "source": [
    "files = [\n",
    "    'jcop21-x',\n",
    "    'jcop3-x',\n",
    "    'jcop3-xy',\n",
    "    'jcop4-x',\n",
    "    'jcop4-xy',\n",
    "    'gd60-x',\n",
    "    'gd70-x',\n",
    "]\n",
    "dfs = {\n",
    "    file.replace('-', ' ').upper(): load_csv(f'data/{file}.csv')\n",
    "    for file in files\n",
    "}\n",
    "all = pd.concat(dfs)"
   ]
  },
  {
   "cell_type": "code",
   "execution_count": null,
   "metadata": {},
   "outputs": [],
   "source": [
    "# check extreme values\n",
    "for name, df in dfs.items():\n",
    "    df.plot.box(subplots=True, figsize=(12, 4), title=name)\n",
    "    plt.tight_layout()"
   ]
  },
  {
   "cell_type": "code",
   "execution_count": null,
   "metadata": {},
   "outputs": [],
   "source": [
    "# commands kgen, dkgen, and commit on cards using ECDH_XY perform little extra\n",
    "# computation other than calling the JavaCard-provided algorithms, and thus\n",
    "# exhibit low time deviations\n",
    "all.groupby(level=0).std()"
   ]
  },
  {
   "cell_type": "code",
   "execution_count": null,
   "metadata": {},
   "outputs": [],
   "source": [
    "means = all.groupby(level=0).mean()\n",
    "means"
   ]
  },
  {
   "cell_type": "code",
   "execution_count": null,
   "metadata": {},
   "outputs": [],
   "source": [
    "meansX = means.loc[filter(lambda key: key[-1] == 'X', dfs.keys())]\n",
    "\n",
    "isSlow = means['Commit'] > 2_000\n",
    "isSlowX = meansX['Commit'] > 2_000"
   ]
  },
  {
   "cell_type": "code",
   "execution_count": null,
   "metadata": {},
   "outputs": [],
   "source": [
    "palette = sns.color_palette('Paired')\n",
    "colorScheme = {\n",
    "    'Dkgen': palette[4],\n",
    "    'Commit': palette[6],\n",
    "    'CommitProb': palette[4],\n",
    "    'Sign': palette[8],\n",
    "}"
   ]
  },
  {
   "cell_type": "code",
   "execution_count": null,
   "metadata": {},
   "outputs": [],
   "source": [
    "divs = [isSlow, ~isSlow]\n",
    "cols = ['Dkgen', 'Commit', 'Sign']\n",
    "fig, axs = plt.subplots(nrows=2, layout='tight', height_ratios=list(map(sum, divs)))\n",
    "\n",
    "means.loc[divs[0], cols].sort_values(by='Commit').plot.barh(\n",
    "    ax=axs[0], stacked=True, color=colorScheme, legend=False\n",
    ")\n",
    "means.loc[divs[1], cols].sort_index(ascending=False).plot.barh(\n",
    "    ax=axs[1], stacked=True, xlabel='Time (ms)', color=colorScheme, legend=True\n",
    ")\n",
    "\n",
    "fig.savefig('img/basic-time-bar.svg')"
   ]
  },
  {
   "cell_type": "code",
   "execution_count": null,
   "metadata": {},
   "outputs": [],
   "source": [
    "# extra communication round overhead seems to be shadowed by the high data variance\n",
    "print(means['Commit'] + means['Sign'] - means['SignCommit'])\n",
    "print(meansX['CommitProb'] + meansX['SignProb'] - meansX['SignCommitProb'])"
   ]
  },
  {
   "cell_type": "code",
   "execution_count": null,
   "metadata": {},
   "outputs": [],
   "source": [
    "# can try up to 3 times on all cards to benefit from probabilistic signing\n",
    "# expected number of tries is 2\n",
    "print(meansX['SignCommit'] / meansX['SignCommitProb'])\n",
    "print((meansX['Commit'] + meansX['Sign']) / (meansX['CommitProb'] + meansX['SignProb']))"
   ]
  },
  {
   "cell_type": "code",
   "execution_count": null,
   "metadata": {},
   "outputs": [],
   "source": [
    "# need to use matplotlib directly for partially stacked bars\n",
    "def plotProb(ax, data, width=0.25, y_label='Time (ms)', legend=None):\n",
    "    data = data.sort_values(by='Commit', ascending=False)\n",
    "\n",
    "    x = np.arange(len(data))\n",
    "\n",
    "    ax.bar(\n",
    "        x, data['Commit'], \n",
    "        -width, align='edge',\n",
    "        label='Commit', color=colorScheme['Commit']\n",
    "    )\n",
    "    ax.bar(\n",
    "        x, data['Sign'],\n",
    "        -width, align='edge', bottom=data['Commit'],\n",
    "        label='_Sign', color=colorScheme['Sign']\n",
    "    )\n",
    "\n",
    "    bottom = np.zeros(len(data))\n",
    "    for i in range(2):\n",
    "        ax.bar(\n",
    "            x, data['CommitProb'], \n",
    "            width, align='edge',  bottom=bottom,\n",
    "            label=i * '_' + 'CommitProb', color = colorScheme['CommitProb']\n",
    "        )\n",
    "        bottom = bottom + data['CommitProb']\n",
    "        ax.bar(\n",
    "            x, data['Sign'], \n",
    "            width, align='edge', bottom=bottom,\n",
    "            label=i * '_' + 'Sign', color=colorScheme['Sign'],\n",
    "        )\n",
    "        bottom = bottom + data['Sign']\n",
    "\n",
    "    ax.set_ylabel(y_label)\n",
    "    ax.set_xticks(x, data.index.to_list())\n",
    "    if legend:\n",
    "        ax.legend(loc=legend, )\n",
    "    ax.set_xlim(-2*width, len(data) - 1 + 2*width)\n"
   ]
  },
  {
   "cell_type": "code",
   "execution_count": null,
   "metadata": {},
   "outputs": [],
   "source": [
    "divs = [isSlowX, ~isSlowX]\n",
    "\n",
    "fig, axs = plt.subplots(ncols=2, layout='tight', width_ratios=list(map(sum, divs)), figsize=(6.4,4))\n",
    "plotProb(axs[0], meansX[divs[0]], legend='upper right')\n",
    "plotProb(axs[1], meansX[divs[1]], y_label=None)\n",
    "\n",
    "fig.savefig('img/prob-time-bar.svg')\n",
    "plt.show()"
   ]
  },
  {
   "cell_type": "code",
   "execution_count": null,
   "metadata": {},
   "outputs": [],
   "source": [
    "print(means[['Dkgen', 'Commit', 'CommitProb', 'Sign']].sort_index()\n",
    "    .style.format(precision=0, na_rep='').to_latex(hrules=True)\n",
    ")"
   ]
  },
  {
   "cell_type": "code",
   "execution_count": null,
   "metadata": {},
   "outputs": [],
   "source": [
    "dfComp = pd.DataFrame({\n",
    "    'Normal': meansX['Commit'] + meansX['Sign'],\n",
    "    'Probabilistic': 2 * (meansX['CommitProb'] + meansX['Sign']),\n",
    "}).sort_index()\n",
    "dfComp['Speedup'] = dfComp['Normal'] / dfComp['Probabilistic']\n",
    "print(dfComp.style\n",
    "    .format(precision=0, subset=['Normal', 'Probabilistic'])\n",
    "    .format(precision=1, subset=['Speedup'])\n",
    "    .to_latex(hrules=True)\n",
    ")"
   ]
  },
  {
   "cell_type": "code",
   "execution_count": null,
   "metadata": {},
   "outputs": [],
   "source": [
    "probTries = all.ProbTries.dropna()\n",
    "nBins = probTries.max()\n",
    "ax = probTries.plot.hist(\n",
    "    bins=np.arange(nBins+1) + 0.5,\n",
    "    edgecolor='white', \n",
    "    density=True,\n",
    "    label='Relative Frequency',\n",
    "    color=palette[6],\n",
    ")\n",
    "ax.set_ylabel('Probability')\n",
    "ax.set_xlabel('Number of Tries')\n",
    "\n",
    "x = np.arange(nBins) + 1\n",
    "y = np.power(np.repeat(1/2, nBins), x)\n",
    "ax.plot(\n",
    "    x, y, 'o', \n",
    "    label='Geometric Distribution, p=1/2',\n",
    "    color=palette[9],\n",
    ")\n",
    "\n",
    "ax.legend()\n",
    "\n",
    "plt.savefig('img/prob-tries-hist.svg')"
   ]
  },
  {
   "cell_type": "code",
   "execution_count": null,
   "metadata": {},
   "outputs": [],
   "source": [
    "print(meansX.ProbTries.to_frame().sort_index().T\n",
    "    .style.format(precision=2).to_latex(hrules=True)\n",
    ")"
   ]
  }
 ],
 "metadata": {
  "kernelspec": {
   "display_name": "Python 3",
   "language": "python",
   "name": "python3"
  },
  "language_info": {
   "codemirror_mode": {
    "name": "ipython",
    "version": 3
   },
   "file_extension": ".py",
   "mimetype": "text/x-python",
   "name": "python",
   "nbconvert_exporter": "python",
   "pygments_lexer": "ipython3",
   "version": "3.11.3"
  },
  "orig_nbformat": 4
 },
 "nbformat": 4,
 "nbformat_minor": 2
}
